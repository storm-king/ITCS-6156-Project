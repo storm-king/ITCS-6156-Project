{
 "cells": [
  {
   "cell_type": "code",
   "execution_count": 1,
   "metadata": {},
   "outputs": [],
   "source": [
    "import numpy as np\n",
    "import pandas as pd\n",
    "import requests\n",
    "from io import StringIO\n",
    "import IPython\n",
    "from PIL import ImageDraw as PILImageDraw\n",
    "from CocoDatasetUtils import CocoDataset"
   ]
  },
  {
   "cell_type": "markdown",
   "metadata": {},
   "source": [
    "# Importing and Using Images from COCO Dataset\n",
    "In order to use images from the coco dataset, you will need the following three things:\n",
    "\n",
    "1. An annotations.json folder (in this notebook we use sample_annotations.json)\n",
    "2. An images folder (in this notebook we use all images from the imgs folder)\n",
    "3. The CocoDatasetUtils file downloaded and in the same directory as this Notebook.\n",
    "\n",
    "Ensure that the file path to them is correct in the two variables 'annotation_path' and 'image_dir' below.\n",
    "\n",
    "See the CocoDatasetUtils.py file for declarations of utility methods that will be useful for this project. Some method uses are below."
   ]
  },
  {
   "cell_type": "markdown",
   "metadata": {},
   "source": [
    "## Setting the Paths and Showing All Categories of Images"
   ]
  },
  {
   "cell_type": "code",
   "execution_count": 2,
   "metadata": {},
   "outputs": [
    {
     "name": "stdout",
     "output_type": "stream",
     "text": [
      "Categories:\n",
      "=========\n",
      "  super_category: vehicle\n",
      "    id 2: bicycle\n",
      "\n",
      "  super_category: animal\n",
      "    id 22: elephant\n",
      "\n"
     ]
    }
   ],
   "source": [
    "annotation_path = '../data/sample_annotations.json'\n",
    "image_dir = '../imgs'\n",
    "coco_dataset = CocoDataset(annotation_path, image_dir)\n",
    "coco_dataset.display_categories()"
   ]
  },
  {
   "cell_type": "markdown",
   "metadata": {},
   "source": [
    "## Showing Specific Images By ID Number & Displaying Captions"
   ]
  },
  {
   "cell_type": "code",
   "execution_count": 3,
   "metadata": {},
   "outputs": [
    {
     "name": "stdout",
     "output_type": "stream",
     "text": [
      "Image:\n",
      "======\n",
      "  id: 242287\n",
      "  license: 4\n",
      "  coco_url: http://images.cocodataset.org/val2017/000000242287.jpg\n",
      "  flickr_url: http://farm3.staticflickr.com/2626/4072194513_edb6acfb2b_z.jpg\n",
      "  width: 426\n",
      "  height: 640\n",
      "  file_name: 000000242287.jpg\n",
      "  date_captured: 2013-11-15 02:41:42\n",
      "  segmentations (1):\n",
      "    125686:blue:{'supercategory': 'vehicle', 'id': 2, 'name': 'bicycle'}\n"
     ]
    },
    {
     "data": {
      "text/html": [
       "<div class=\"container\" style=\"position:relative;\"><img src=\"http://images.cocodataset.org/val2017/000000242287.jpg\" style=\"position:relative;top:0px;left:0px;width:426px;\"><div class=\"svgclass\"><svg width=\"426\" height=\"640.0\"><polygon points=\"164 417 164 417 164 417 159 409 159 409 155 409 155 410 152 413 144 413\n",
       " 140 413 137 413 134 414 129 414 122 414 104 405 104 405  93 401  93 401\n",
       "  87 399  86 399  85 399  93 391  78 383  72 383  68 401  82 402 104 409\n",
       " 104 421  85 458  79 469  65 454  61 455  59 455  42 471  39 479  39 482\n",
       "  31 497  19 510  19 519  19 539  20 578  26 590  27 593  38 596  41 593\n",
       "  50 589  53 587  59 585  71 579  79 568  82 560  85 535  87 520  90 513\n",
       "  93 490  93 487  93 480 108 499 108 509 115 521 104 521 103 528 108 534\n",
       " 119 530 124 535 126 535 129 543 166 582 171 578 197 598 208 608 249 627\n",
       " 269 623 278 618 281 609 285 601 287 597 291 591 291 590 318 590 318 591\n",
       " 329 589 332 586 333 583 309 563 313 547 313 541 313 526 313 523 313 516\n",
       " 313 501 307 486 307 486 302 483 291 472 278 454 273 454 262 447 241 438\n",
       " 226 425 226 420 210 413 206 413 197 414 167 410\" style=\"fill:blue; stroke:blue; stroke-width:1; fill-opacity:0.5\" /><polygon points=\" 19 383 333 383 333 627  19 627  19 383\" style=\"fill:blue; stroke:blue; stroke-width:1; fill-opacity:0\" /></svg></div></div><style>.svgclass { position:absolute; top:0px; left:0px;}</style>"
      ],
      "text/plain": [
       "<IPython.core.display.HTML object>"
      ]
     },
     "execution_count": 3,
     "metadata": {},
     "output_type": "execute_result"
    }
   ],
   "source": [
    "html = coco_dataset.display_image(242287, use_url=True)\n",
    "IPython.display.HTML(html)"
   ]
  },
  {
   "cell_type": "code",
   "execution_count": 4,
   "metadata": {},
   "outputs": [
    {
     "name": "stdout",
     "output_type": "stream",
     "text": [
      "Captions:\n",
      "==========\n",
      "    Bike leaning against wall.\n",
      "\n"
     ]
    }
   ],
   "source": [
    "coco_dataset.display_captions(242287)"
   ]
  },
  {
   "cell_type": "code",
   "execution_count": 5,
   "metadata": {},
   "outputs": [
    {
     "name": "stdout",
     "output_type": "stream",
     "text": [
      "Image:\n",
      "======\n",
      "  id: 245915\n",
      "  license: 4\n",
      "  coco_url: http://images.cocodataset.org/val2017/000000245915.jpg\n",
      "  flickr_url: http://farm1.staticflickr.com/88/211747310_f58a16631e_z.jpg\n",
      "  width: 500\n",
      "  height: 333\n",
      "  file_name: 000000245915.jpg\n",
      "  date_captured: 2013-11-18 02:53:27\n",
      "  segmentations (14):\n",
      "    1409619:blue:{'supercategory': 'animal', 'id': 22, 'name': 'elephant'}\n",
      "    1410165:purple:{'supercategory': 'animal', 'id': 22, 'name': 'elephant'}\n",
      "    1410330:red:{'supercategory': 'animal', 'id': 22, 'name': 'elephant'}\n",
      "    1410622:green:{'supercategory': 'animal', 'id': 22, 'name': 'elephant'}\n",
      "    1410759:orange:{'supercategory': 'animal', 'id': 22, 'name': 'elephant'}\n",
      "    1410834:salmon:{'supercategory': 'animal', 'id': 22, 'name': 'elephant'}\n",
      "    1410880:pink:{'supercategory': 'animal', 'id': 22, 'name': 'elephant'}\n",
      "    1411090:gold:{'supercategory': 'animal', 'id': 22, 'name': 'elephant'}\n",
      "    1411108:orchid:{'supercategory': 'animal', 'id': 22, 'name': 'elephant'}\n",
      "    1411138:slateblue:{'supercategory': 'animal', 'id': 22, 'name': 'elephant'}\n",
      "    1411160:limegreen:{'supercategory': 'animal', 'id': 22, 'name': 'elephant'}\n",
      "    1411174:seagreen:{'supercategory': 'animal', 'id': 22, 'name': 'elephant'}\n",
      "    2210312:darkgreen:{'supercategory': 'animal', 'id': 22, 'name': 'elephant'}\n",
      "    902200245915:olive:{'supercategory': 'animal', 'id': 22, 'name': 'elephant'}\n"
     ]
    },
    {
     "data": {
      "text/html": [
       "<div class=\"container\" style=\"position:relative;\"><img src=\"http://images.cocodataset.org/val2017/000000245915.jpg\" style=\"position:relative;top:0px;left:0px;width:500px;\"><div class=\"svgclass\"><svg width=\"500\" height=\"333.0\"><polygon points=\"376 238 378 228 382 216 383 210 385 207 386 207 387 201 389 197 396 196\n",
       " 404 198 416 190 434 189 458 190 468 196 473 205 473 210 460 225 447 238\n",
       " 437 239 420 233 413 246 406 245 408 232 409 224 407 221 405 221 402 226\n",
       " 395 228 393 229 388 231 383 236 382 241\" style=\"fill:blue; stroke:blue; stroke-width:1; fill-opacity:0.5\" /><polygon points=\"486 239 477 244 468 245 464 244 458 250 451 249 445 243 448 238 476 206\n",
       " 481 205 485 209 500 205 500 267 500 272 498 276 489 275 488 272 494 251\n",
       " 495 244\" style=\"fill:purple; stroke:purple; stroke-width:1; fill-opacity:0.5\" /><polygon points=\"402 196 410 177 416 171 428 171 433 166 451 164 468 165 480 172 486 181\n",
       " 487 188 493 207 486 193 486 208 481 204 474 211 468 196 460 190 446 190\n",
       " 428 188 412 193\" style=\"fill:red; stroke:red; stroke-width:1; fill-opacity:0.5\" /><polygon points=\"480 166 481 161 482 158 483 156 485 151 486 147 486 143 486 139 487 135\n",
       " 487 132 489 127 489 125 493 120 495 120 499 119 499 145 495 144 492 148\n",
       " 491 152 489 160 486 163 486 164 484 167 482 167 481 167\" style=\"fill:green; stroke:green; stroke-width:1; fill-opacity:0.5\" /><polygon points=\"439 122 440 115 441 106 444 100 450 100 456 101 466 103 479 108 488 114\n",
       " 490 119 491 124 488 131 486 142 485 148 481 145 475 139 472 132 463 125\n",
       " 454 122 447 122 442 122\" style=\"fill:orange; stroke:orange; stroke-width:1; fill-opacity:0.5\" /><polygon points=\"331 255 322 250 318 240 318 250 308 246 306 237 303 219 294 220 284 214\n",
       " 279 212 271 212 270 204 273 199 293 192 302 190 309 191 318 196 333 195\n",
       " 358 210 363 221 363 237 361 261 352 261 350 251 341 250 340 255 352 262\n",
       " 356 264 356 265 343 264\" style=\"fill:salmon; stroke:salmon; stroke-width:1; fill-opacity:0.5\" /><polygon points=\"222 191 233 181 241 167 248 154 257 153 281 149 294 149 300 152 312 160\n",
       " 317 168 318 172 321 178 322 182 321 184 317 188 317 195 306 189 301 188\n",
       " 294 188 281 186 283 195 277 195 274 189 269 195 263 196 263 185 257 195\n",
       " 249 184 244 183 233 189 229 192\" style=\"fill:pink; stroke:pink; stroke-width:1; fill-opacity:0.5\" /><polygon points=\"245 145 245 138 247 132 250 126 258 125 267 125 281 126 290 127 299 135\n",
       " 306 140 307 144 308 149 312 151 312 155 311 158 301 153 294 150 262 150\n",
       " 252 148\" style=\"fill:gold; stroke:gold; stroke-width:1; fill-opacity:0.5\" /><polygon points=\"347 157 341 156 338 159 341 167 336 167 328 155 324 151 321 159 324 162\n",
       " 324 164 319 166 314 161 315 153 315 145 312 136 305 137 299 132 299 127\n",
       " 301 117 311 115 313 121 328 119 340 124 353 134 354 141 363 163 360 165\n",
       " 355 151 353 165 347 163 347 159\" style=\"fill:orchid; stroke:orchid; stroke-width:1; fill-opacity:0.5\" /><polygon points=\" 72 177  73 169  77 160  80 156  85 149  88 145  92 139  96 133 100 127\n",
       " 104 125 109 124 118 124 130 122 136 122 149 121 161 123 169 127 170 130\n",
       " 167 133 163 135 158 134 146 140 143 148 143 155 141 160 141 164 141 165\n",
       " 136 165 133 163 131 169 132 176 132 178 132 178 127 178 122 165 122 163\n",
       " 120 168 116 173 114 178 110 177 110 171 115 161 115 153 114 151 111 149\n",
       " 109 151 102 152  98 152  96 151  91 157  83 161  77 167  76 170  75 173\n",
       "  77 176  75 177\" style=\"fill:slateblue; stroke:slateblue; stroke-width:1; fill-opacity:0.5\" /><polygon points=\"389 161 391 145 400 136 416 123 438 118 464 122 472 137 480 144 486 151\n",
       " 483 150 475 142 470 153 469 164 461 162 458 158 458 164 453 163 447 155\n",
       " 442 157 440 158 438 162 430 167 423 163 426 156 426 147 421 145 417 146\n",
       " 408 146 401 151 398 156 398 159 398 164 397 164\" style=\"fill:limegreen; stroke:limegreen; stroke-width:1; fill-opacity:0.5\" /><polygon points=\"234 180 230 180 228 183 229 185 222 190 219 183 218 186 216 185 217 179\n",
       " 216 172 213 165 204 164 193 163 192 156 190 156 184 154 183 155 188 157\n",
       " 191 157 186 160 179 157 181 149 187 149 194 149 204 143 215 142 221 144\n",
       " 232 146 246 146 263 151 270 150 258 153 247 156\" style=\"fill:seagreen; stroke:seagreen; stroke-width:1; fill-opacity:0.5\" /><polygon points=\" 40 136  43 132  46 112  47 107  53 101  66 101  70 103  79 110  84 116\n",
       "  84 120  80 134  82 147  80 150  75 137  76 134  74 134  76 145  75 150\n",
       "  71 148  69 141  65 132  63 134  65 145  59 145  57 127  56 119  50 119\n",
       "  48 130  43 138  40 140  39 142  38 139\" style=\"fill:darkgreen; stroke:darkgreen; stroke-width:1; fill-opacity:0.5\" /><rect x=\"79\" y=\"147\" width=\"1\" height=\"2\" style=\"fill:olive; stroke:olive; stroke-width:1; fill-opacity:0.5; stroke-opacity:0.5\" /><rect x=\"81\" y=\"134\" width=\"1\" height=\"3\" style=\"fill:olive; stroke:olive; stroke-width:1; fill-opacity:0.5; stroke-opacity:0.5\" /><rect x=\"81\" y=\"150\" width=\"1\" height=\"1\" style=\"fill:olive; stroke:olive; stroke-width:1; fill-opacity:0.5; stroke-opacity:0.5\" /><rect x=\"82\" y=\"131\" width=\"1\" height=\"12\" style=\"fill:olive; stroke:olive; stroke-width:1; fill-opacity:0.5; stroke-opacity:0.5\" /><rect x=\"82\" y=\"149\" width=\"1\" height=\"3\" style=\"fill:olive; stroke:olive; stroke-width:1; fill-opacity:0.5; stroke-opacity:0.5\" /><rect x=\"83\" y=\"131\" width=\"1\" height=\"21\" style=\"fill:olive; stroke:olive; stroke-width:1; fill-opacity:0.5; stroke-opacity:0.5\" /><rect x=\"84\" y=\"129\" width=\"1\" height=\"23\" style=\"fill:olive; stroke:olive; stroke-width:1; fill-opacity:0.5; stroke-opacity:0.5\" /><rect x=\"85\" y=\"129\" width=\"1\" height=\"22\" style=\"fill:olive; stroke:olive; stroke-width:1; fill-opacity:0.5; stroke-opacity:0.5\" /><rect x=\"86\" y=\"128\" width=\"1\" height=\"21\" style=\"fill:olive; stroke:olive; stroke-width:1; fill-opacity:0.5; stroke-opacity:0.5\" /><rect x=\"86\" y=\"161\" width=\"1\" height=\"4\" style=\"fill:olive; stroke:olive; stroke-width:1; fill-opacity:0.5; stroke-opacity:0.5\" /><rect x=\"87\" y=\"128\" width=\"1\" height=\"20\" style=\"fill:olive; stroke:olive; stroke-width:1; fill-opacity:0.5; stroke-opacity:0.5\" /><rect x=\"87\" y=\"160\" width=\"1\" height=\"6\" style=\"fill:olive; stroke:olive; stroke-width:1; fill-opacity:0.5; stroke-opacity:0.5\" /><rect x=\"88\" y=\"127\" width=\"1\" height=\"19\" style=\"fill:olive; stroke:olive; stroke-width:1; fill-opacity:0.5; stroke-opacity:0.5\" /><rect x=\"88\" y=\"159\" width=\"1\" height=\"8\" style=\"fill:olive; stroke:olive; stroke-width:1; fill-opacity:0.5; stroke-opacity:0.5\" /><rect x=\"89\" y=\"127\" width=\"1\" height=\"18\" style=\"fill:olive; stroke:olive; stroke-width:1; fill-opacity:0.5; stroke-opacity:0.5\" /><rect x=\"89\" y=\"159\" width=\"1\" height=\"9\" style=\"fill:olive; stroke:olive; stroke-width:1; fill-opacity:0.5; stroke-opacity:0.5\" /><rect x=\"90\" y=\"127\" width=\"1\" height=\"16\" style=\"fill:olive; stroke:olive; stroke-width:1; fill-opacity:0.5; stroke-opacity:0.5\" /><rect x=\"90\" y=\"158\" width=\"1\" height=\"10\" style=\"fill:olive; stroke:olive; stroke-width:1; fill-opacity:0.5; stroke-opacity:0.5\" /><rect x=\"91\" y=\"127\" width=\"1\" height=\"14\" style=\"fill:olive; stroke:olive; stroke-width:1; fill-opacity:0.5; stroke-opacity:0.5\" /><rect x=\"91\" y=\"158\" width=\"1\" height=\"10\" style=\"fill:olive; stroke:olive; stroke-width:1; fill-opacity:0.5; stroke-opacity:0.5\" /><rect x=\"92\" y=\"127\" width=\"1\" height=\"13\" style=\"fill:olive; stroke:olive; stroke-width:1; fill-opacity:0.5; stroke-opacity:0.5\" /><rect x=\"92\" y=\"157\" width=\"1\" height=\"11\" style=\"fill:olive; stroke:olive; stroke-width:1; fill-opacity:0.5; stroke-opacity:0.5\" /><rect x=\"93\" y=\"128\" width=\"1\" height=\"11\" style=\"fill:olive; stroke:olive; stroke-width:1; fill-opacity:0.5; stroke-opacity:0.5\" /><rect x=\"93\" y=\"156\" width=\"1\" height=\"12\" style=\"fill:olive; stroke:olive; stroke-width:1; fill-opacity:0.5; stroke-opacity:0.5\" /><rect x=\"94\" y=\"128\" width=\"1\" height=\"9\" style=\"fill:olive; stroke:olive; stroke-width:1; fill-opacity:0.5; stroke-opacity:0.5\" /><rect x=\"94\" y=\"155\" width=\"1\" height=\"13\" style=\"fill:olive; stroke:olive; stroke-width:1; fill-opacity:0.5; stroke-opacity:0.5\" /><rect x=\"95\" y=\"129\" width=\"1\" height=\"7\" style=\"fill:olive; stroke:olive; stroke-width:1; fill-opacity:0.5; stroke-opacity:0.5\" /><rect x=\"95\" y=\"155\" width=\"1\" height=\"13\" style=\"fill:olive; stroke:olive; stroke-width:1; fill-opacity:0.5; stroke-opacity:0.5\" /><rect x=\"96\" y=\"130\" width=\"1\" height=\"5\" style=\"fill:olive; stroke:olive; stroke-width:1; fill-opacity:0.5; stroke-opacity:0.5\" /><rect x=\"96\" y=\"154\" width=\"1\" height=\"14\" style=\"fill:olive; stroke:olive; stroke-width:1; fill-opacity:0.5; stroke-opacity:0.5\" /><rect x=\"97\" y=\"132\" width=\"1\" height=\"2\" style=\"fill:olive; stroke:olive; stroke-width:1; fill-opacity:0.5; stroke-opacity:0.5\" /><rect x=\"97\" y=\"153\" width=\"1\" height=\"15\" style=\"fill:olive; stroke:olive; stroke-width:1; fill-opacity:0.5; stroke-opacity:0.5\" /><rect x=\"98\" y=\"153\" width=\"1\" height=\"15\" style=\"fill:olive; stroke:olive; stroke-width:1; fill-opacity:0.5; stroke-opacity:0.5\" /><rect x=\"99\" y=\"153\" width=\"1\" height=\"15\" style=\"fill:olive; stroke:olive; stroke-width:1; fill-opacity:0.5; stroke-opacity:0.5\" /><rect x=\"100\" y=\"153\" width=\"1\" height=\"14\" style=\"fill:olive; stroke:olive; stroke-width:1; fill-opacity:0.5; stroke-opacity:0.5\" /><rect x=\"101\" y=\"153\" width=\"1\" height=\"14\" style=\"fill:olive; stroke:olive; stroke-width:1; fill-opacity:0.5; stroke-opacity:0.5\" /><rect x=\"102\" y=\"153\" width=\"1\" height=\"13\" style=\"fill:olive; stroke:olive; stroke-width:1; fill-opacity:0.5; stroke-opacity:0.5\" /><rect x=\"103\" y=\"153\" width=\"1\" height=\"12\" style=\"fill:olive; stroke:olive; stroke-width:1; fill-opacity:0.5; stroke-opacity:0.5\" /><rect x=\"104\" y=\"153\" width=\"1\" height=\"12\" style=\"fill:olive; stroke:olive; stroke-width:1; fill-opacity:0.5; stroke-opacity:0.5\" /><rect x=\"105\" y=\"153\" width=\"1\" height=\"11\" style=\"fill:olive; stroke:olive; stroke-width:1; fill-opacity:0.5; stroke-opacity:0.5\" /><rect x=\"106\" y=\"153\" width=\"1\" height=\"11\" style=\"fill:olive; stroke:olive; stroke-width:1; fill-opacity:0.5; stroke-opacity:0.5\" /><rect x=\"107\" y=\"153\" width=\"1\" height=\"10\" style=\"fill:olive; stroke:olive; stroke-width:1; fill-opacity:0.5; stroke-opacity:0.5\" /><rect x=\"108\" y=\"153\" width=\"1\" height=\"8\" style=\"fill:olive; stroke:olive; stroke-width:1; fill-opacity:0.5; stroke-opacity:0.5\" /><rect x=\"109\" y=\"154\" width=\"1\" height=\"5\" style=\"fill:olive; stroke:olive; stroke-width:1; fill-opacity:0.5; stroke-opacity:0.5\" /><rect x=\"140\" y=\"166\" width=\"1\" height=\"16\" style=\"fill:olive; stroke:olive; stroke-width:1; fill-opacity:0.5; stroke-opacity:0.5\" /><rect x=\"141\" y=\"166\" width=\"1\" height=\"17\" style=\"fill:olive; stroke:olive; stroke-width:1; fill-opacity:0.5; stroke-opacity:0.5\" /><rect x=\"142\" y=\"160\" width=\"1\" height=\"24\" style=\"fill:olive; stroke:olive; stroke-width:1; fill-opacity:0.5; stroke-opacity:0.5\" /><rect x=\"143\" y=\"158\" width=\"1\" height=\"27\" style=\"fill:olive; stroke:olive; stroke-width:1; fill-opacity:0.5; stroke-opacity:0.5\" /><rect x=\"144\" y=\"149\" width=\"1\" height=\"36\" style=\"fill:olive; stroke:olive; stroke-width:1; fill-opacity:0.5; stroke-opacity:0.5\" /><rect x=\"145\" y=\"146\" width=\"1\" height=\"39\" style=\"fill:olive; stroke:olive; stroke-width:1; fill-opacity:0.5; stroke-opacity:0.5\" /><rect x=\"146\" y=\"143\" width=\"1\" height=\"42\" style=\"fill:olive; stroke:olive; stroke-width:1; fill-opacity:0.5; stroke-opacity:0.5\" /><rect x=\"147\" y=\"141\" width=\"1\" height=\"44\" style=\"fill:olive; stroke:olive; stroke-width:1; fill-opacity:0.5; stroke-opacity:0.5\" /><rect x=\"148\" y=\"141\" width=\"1\" height=\"44\" style=\"fill:olive; stroke:olive; stroke-width:1; fill-opacity:0.5; stroke-opacity:0.5\" /><rect x=\"149\" y=\"140\" width=\"1\" height=\"44\" style=\"fill:olive; stroke:olive; stroke-width:1; fill-opacity:0.5; stroke-opacity:0.5\" /><rect x=\"150\" y=\"140\" width=\"1\" height=\"44\" style=\"fill:olive; stroke:olive; stroke-width:1; fill-opacity:0.5; stroke-opacity:0.5\" /><rect x=\"151\" y=\"139\" width=\"1\" height=\"44\" style=\"fill:olive; stroke:olive; stroke-width:1; fill-opacity:0.5; stroke-opacity:0.5\" /><rect x=\"152\" y=\"139\" width=\"1\" height=\"35\" style=\"fill:olive; stroke:olive; stroke-width:1; fill-opacity:0.5; stroke-opacity:0.5\" /><rect x=\"152\" y=\"175\" width=\"1\" height=\"6\" style=\"fill:olive; stroke:olive; stroke-width:1; fill-opacity:0.5; stroke-opacity:0.5\" /><rect x=\"153\" y=\"138\" width=\"1\" height=\"24\" style=\"fill:olive; stroke:olive; stroke-width:1; fill-opacity:0.5; stroke-opacity:0.5\" /><rect x=\"154\" y=\"138\" width=\"1\" height=\"22\" style=\"fill:olive; stroke:olive; stroke-width:1; fill-opacity:0.5; stroke-opacity:0.5\" /><rect x=\"155\" y=\"137\" width=\"1\" height=\"21\" style=\"fill:olive; stroke:olive; stroke-width:1; fill-opacity:0.5; stroke-opacity:0.5\" /><rect x=\"156\" y=\"137\" width=\"1\" height=\"22\" style=\"fill:olive; stroke:olive; stroke-width:1; fill-opacity:0.5; stroke-opacity:0.5\" /><rect x=\"157\" y=\"136\" width=\"1\" height=\"24\" style=\"fill:olive; stroke:olive; stroke-width:1; fill-opacity:0.5; stroke-opacity:0.5\" /><rect x=\"158\" y=\"136\" width=\"1\" height=\"24\" style=\"fill:olive; stroke:olive; stroke-width:1; fill-opacity:0.5; stroke-opacity:0.5\" /><rect x=\"159\" y=\"135\" width=\"1\" height=\"25\" style=\"fill:olive; stroke:olive; stroke-width:1; fill-opacity:0.5; stroke-opacity:0.5\" /><rect x=\"160\" y=\"135\" width=\"1\" height=\"25\" style=\"fill:olive; stroke:olive; stroke-width:1; fill-opacity:0.5; stroke-opacity:0.5\" /><rect x=\"161\" y=\"136\" width=\"1\" height=\"39\" style=\"fill:olive; stroke:olive; stroke-width:1; fill-opacity:0.5; stroke-opacity:0.5\" /><rect x=\"162\" y=\"136\" width=\"1\" height=\"40\" style=\"fill:olive; stroke:olive; stroke-width:1; fill-opacity:0.5; stroke-opacity:0.5\" /><rect x=\"163\" y=\"136\" width=\"1\" height=\"41\" style=\"fill:olive; stroke:olive; stroke-width:1; fill-opacity:0.5; stroke-opacity:0.5\" /><rect x=\"164\" y=\"136\" width=\"1\" height=\"42\" style=\"fill:olive; stroke:olive; stroke-width:1; fill-opacity:0.5; stroke-opacity:0.5\" /><rect x=\"165\" y=\"135\" width=\"1\" height=\"43\" style=\"fill:olive; stroke:olive; stroke-width:1; fill-opacity:0.5; stroke-opacity:0.5\" /><rect x=\"166\" y=\"135\" width=\"1\" height=\"43\" style=\"fill:olive; stroke:olive; stroke-width:1; fill-opacity:0.5; stroke-opacity:0.5\" /><rect x=\"167\" y=\"135\" width=\"1\" height=\"43\" style=\"fill:olive; stroke:olive; stroke-width:1; fill-opacity:0.5; stroke-opacity:0.5\" /><rect x=\"168\" y=\"134\" width=\"1\" height=\"44\" style=\"fill:olive; stroke:olive; stroke-width:1; fill-opacity:0.5; stroke-opacity:0.5\" /><rect x=\"169\" y=\"133\" width=\"1\" height=\"45\" style=\"fill:olive; stroke:olive; stroke-width:1; fill-opacity:0.5; stroke-opacity:0.5\" /><rect x=\"170\" y=\"132\" width=\"1\" height=\"45\" style=\"fill:olive; stroke:olive; stroke-width:1; fill-opacity:0.5; stroke-opacity:0.5\" /><rect x=\"171\" y=\"130\" width=\"1\" height=\"47\" style=\"fill:olive; stroke:olive; stroke-width:1; fill-opacity:0.5; stroke-opacity:0.5\" /><rect x=\"172\" y=\"130\" width=\"1\" height=\"46\" style=\"fill:olive; stroke:olive; stroke-width:1; fill-opacity:0.5; stroke-opacity:0.5\" /><rect x=\"173\" y=\"130\" width=\"1\" height=\"44\" style=\"fill:olive; stroke:olive; stroke-width:1; fill-opacity:0.5; stroke-opacity:0.5\" /><rect x=\"174\" y=\"130\" width=\"1\" height=\"40\" style=\"fill:olive; stroke:olive; stroke-width:1; fill-opacity:0.5; stroke-opacity:0.5\" /><rect x=\"175\" y=\"129\" width=\"1\" height=\"46\" style=\"fill:olive; stroke:olive; stroke-width:1; fill-opacity:0.5; stroke-opacity:0.5\" /><rect x=\"176\" y=\"129\" width=\"1\" height=\"47\" style=\"fill:olive; stroke:olive; stroke-width:1; fill-opacity:0.5; stroke-opacity:0.5\" /><rect x=\"177\" y=\"128\" width=\"1\" height=\"49\" style=\"fill:olive; stroke:olive; stroke-width:1; fill-opacity:0.5; stroke-opacity:0.5\" /><rect x=\"178\" y=\"128\" width=\"1\" height=\"50\" style=\"fill:olive; stroke:olive; stroke-width:1; fill-opacity:0.5; stroke-opacity:0.5\" /><rect x=\"179\" y=\"128\" width=\"1\" height=\"50\" style=\"fill:olive; stroke:olive; stroke-width:1; fill-opacity:0.5; stroke-opacity:0.5\" /><rect x=\"180\" y=\"128\" width=\"1\" height=\"29\" style=\"fill:olive; stroke:olive; stroke-width:1; fill-opacity:0.5; stroke-opacity:0.5\" /><rect x=\"180\" y=\"158\" width=\"1\" height=\"20\" style=\"fill:olive; stroke:olive; stroke-width:1; fill-opacity:0.5; stroke-opacity:0.5\" /><rect x=\"181\" y=\"128\" width=\"1\" height=\"25\" style=\"fill:olive; stroke:olive; stroke-width:1; fill-opacity:0.5; stroke-opacity:0.5\" /><rect x=\"181\" y=\"159\" width=\"1\" height=\"19\" style=\"fill:olive; stroke:olive; stroke-width:1; fill-opacity:0.5; stroke-opacity:0.5\" /><rect x=\"182\" y=\"128\" width=\"1\" height=\"22\" style=\"fill:olive; stroke:olive; stroke-width:1; fill-opacity:0.5; stroke-opacity:0.5\" /><rect x=\"182\" y=\"159\" width=\"1\" height=\"19\" style=\"fill:olive; stroke:olive; stroke-width:1; fill-opacity:0.5; stroke-opacity:0.5\" /><rect x=\"183\" y=\"128\" width=\"1\" height=\"22\" style=\"fill:olive; stroke:olive; stroke-width:1; fill-opacity:0.5; stroke-opacity:0.5\" /><rect x=\"183\" y=\"160\" width=\"1\" height=\"18\" style=\"fill:olive; stroke:olive; stroke-width:1; fill-opacity:0.5; stroke-opacity:0.5\" /><rect x=\"184\" y=\"128\" width=\"1\" height=\"22\" style=\"fill:olive; stroke:olive; stroke-width:1; fill-opacity:0.5; stroke-opacity:0.5\" /><rect x=\"184\" y=\"160\" width=\"1\" height=\"17\" style=\"fill:olive; stroke:olive; stroke-width:1; fill-opacity:0.5; stroke-opacity:0.5\" /><rect x=\"185\" y=\"128\" width=\"1\" height=\"22\" style=\"fill:olive; stroke:olive; stroke-width:1; fill-opacity:0.5; stroke-opacity:0.5\" /><rect x=\"185\" y=\"161\" width=\"1\" height=\"16\" style=\"fill:olive; stroke:olive; stroke-width:1; fill-opacity:0.5; stroke-opacity:0.5\" /><rect x=\"186\" y=\"128\" width=\"1\" height=\"22\" style=\"fill:olive; stroke:olive; stroke-width:1; fill-opacity:0.5; stroke-opacity:0.5\" /><rect x=\"186\" y=\"162\" width=\"1\" height=\"14\" style=\"fill:olive; stroke:olive; stroke-width:1; fill-opacity:0.5; stroke-opacity:0.5\" /><rect x=\"187\" y=\"128\" width=\"1\" height=\"21\" style=\"fill:olive; stroke:olive; stroke-width:1; fill-opacity:0.5; stroke-opacity:0.5\" /><rect x=\"187\" y=\"164\" width=\"1\" height=\"10\" style=\"fill:olive; stroke:olive; stroke-width:1; fill-opacity:0.5; stroke-opacity:0.5\" /><rect x=\"188\" y=\"127\" width=\"1\" height=\"22\" style=\"fill:olive; stroke:olive; stroke-width:1; fill-opacity:0.5; stroke-opacity:0.5\" /><rect x=\"189\" y=\"127\" width=\"1\" height=\"22\" style=\"fill:olive; stroke:olive; stroke-width:1; fill-opacity:0.5; stroke-opacity:0.5\" /><rect x=\"190\" y=\"127\" width=\"1\" height=\"22\" style=\"fill:olive; stroke:olive; stroke-width:1; fill-opacity:0.5; stroke-opacity:0.5\" /><rect x=\"191\" y=\"127\" width=\"1\" height=\"22\" style=\"fill:olive; stroke:olive; stroke-width:1; fill-opacity:0.5; stroke-opacity:0.5\" /><rect x=\"192\" y=\"127\" width=\"1\" height=\"22\" style=\"fill:olive; stroke:olive; stroke-width:1; fill-opacity:0.5; stroke-opacity:0.5\" /><rect x=\"193\" y=\"127\" width=\"1\" height=\"22\" style=\"fill:olive; stroke:olive; stroke-width:1; fill-opacity:0.5; stroke-opacity:0.5\" /><rect x=\"194\" y=\"127\" width=\"1\" height=\"22\" style=\"fill:olive; stroke:olive; stroke-width:1; fill-opacity:0.5; stroke-opacity:0.5\" /><rect x=\"195\" y=\"128\" width=\"1\" height=\"20\" style=\"fill:olive; stroke:olive; stroke-width:1; fill-opacity:0.5; stroke-opacity:0.5\" /><rect x=\"196\" y=\"127\" width=\"1\" height=\"21\" style=\"fill:olive; stroke:olive; stroke-width:1; fill-opacity:0.5; stroke-opacity:0.5\" /><rect x=\"197\" y=\"127\" width=\"1\" height=\"21\" style=\"fill:olive; stroke:olive; stroke-width:1; fill-opacity:0.5; stroke-opacity:0.5\" /><rect x=\"198\" y=\"127\" width=\"1\" height=\"21\" style=\"fill:olive; stroke:olive; stroke-width:1; fill-opacity:0.5; stroke-opacity:0.5\" /><rect x=\"199\" y=\"127\" width=\"1\" height=\"20\" style=\"fill:olive; stroke:olive; stroke-width:1; fill-opacity:0.5; stroke-opacity:0.5\" /><rect x=\"200\" y=\"127\" width=\"1\" height=\"19\" style=\"fill:olive; stroke:olive; stroke-width:1; fill-opacity:0.5; stroke-opacity:0.5\" /><rect x=\"201\" y=\"127\" width=\"1\" height=\"19\" style=\"fill:olive; stroke:olive; stroke-width:1; fill-opacity:0.5; stroke-opacity:0.5\" /><rect x=\"202\" y=\"127\" width=\"1\" height=\"18\" style=\"fill:olive; stroke:olive; stroke-width:1; fill-opacity:0.5; stroke-opacity:0.5\" /><rect x=\"203\" y=\"127\" width=\"1\" height=\"18\" style=\"fill:olive; stroke:olive; stroke-width:1; fill-opacity:0.5; stroke-opacity:0.5\" /><rect x=\"204\" y=\"127\" width=\"1\" height=\"17\" style=\"fill:olive; stroke:olive; stroke-width:1; fill-opacity:0.5; stroke-opacity:0.5\" /><rect x=\"205\" y=\"127\" width=\"1\" height=\"17\" style=\"fill:olive; stroke:olive; stroke-width:1; fill-opacity:0.5; stroke-opacity:0.5\" /><rect x=\"206\" y=\"127\" width=\"1\" height=\"17\" style=\"fill:olive; stroke:olive; stroke-width:1; fill-opacity:0.5; stroke-opacity:0.5\" /><rect x=\"207\" y=\"128\" width=\"1\" height=\"16\" style=\"fill:olive; stroke:olive; stroke-width:1; fill-opacity:0.5; stroke-opacity:0.5\" /><rect x=\"208\" y=\"128\" width=\"1\" height=\"16\" style=\"fill:olive; stroke:olive; stroke-width:1; fill-opacity:0.5; stroke-opacity:0.5\" /><rect x=\"209\" y=\"129\" width=\"1\" height=\"15\" style=\"fill:olive; stroke:olive; stroke-width:1; fill-opacity:0.5; stroke-opacity:0.5\" /><rect x=\"210\" y=\"129\" width=\"1\" height=\"15\" style=\"fill:olive; stroke:olive; stroke-width:1; fill-opacity:0.5; stroke-opacity:0.5\" /><rect x=\"211\" y=\"130\" width=\"1\" height=\"14\" style=\"fill:olive; stroke:olive; stroke-width:1; fill-opacity:0.5; stroke-opacity:0.5\" /><rect x=\"212\" y=\"131\" width=\"1\" height=\"13\" style=\"fill:olive; stroke:olive; stroke-width:1; fill-opacity:0.5; stroke-opacity:0.5\" /><rect x=\"213\" y=\"131\" width=\"1\" height=\"13\" style=\"fill:olive; stroke:olive; stroke-width:1; fill-opacity:0.5; stroke-opacity:0.5\" /><rect x=\"214\" y=\"131\" width=\"1\" height=\"13\" style=\"fill:olive; stroke:olive; stroke-width:1; fill-opacity:0.5; stroke-opacity:0.5\" /><rect x=\"215\" y=\"132\" width=\"1\" height=\"11\" style=\"fill:olive; stroke:olive; stroke-width:1; fill-opacity:0.5; stroke-opacity:0.5\" /><rect x=\"216\" y=\"132\" width=\"1\" height=\"12\" style=\"fill:olive; stroke:olive; stroke-width:1; fill-opacity:0.5; stroke-opacity:0.5\" /><rect x=\"217\" y=\"133\" width=\"1\" height=\"11\" style=\"fill:olive; stroke:olive; stroke-width:1; fill-opacity:0.5; stroke-opacity:0.5\" /><rect x=\"218\" y=\"134\" width=\"1\" height=\"10\" style=\"fill:olive; stroke:olive; stroke-width:1; fill-opacity:0.5; stroke-opacity:0.5\" /><rect x=\"219\" y=\"136\" width=\"1\" height=\"8\" style=\"fill:olive; stroke:olive; stroke-width:1; fill-opacity:0.5; stroke-opacity:0.5\" /><polygon points=\"376 189 473 189 473 246 376 246 376 189\" style=\"fill:blue; stroke:blue; stroke-width:1; fill-opacity:0\" /><polygon points=\"445 205 500 205 500 276 445 276 445 205\" style=\"fill:purple; stroke:purple; stroke-width:1; fill-opacity:0\" /><polygon points=\"402 164 493 164 493 211 402 211 402 164\" style=\"fill:red; stroke:red; stroke-width:1; fill-opacity:0\" /><polygon points=\"480 119 499 119 499 167 480 167 480 119\" style=\"fill:green; stroke:green; stroke-width:1; fill-opacity:0\" /><polygon points=\"439 100 491 100 491 148 439 148 439 100\" style=\"fill:orange; stroke:orange; stroke-width:1; fill-opacity:0\" /><polygon points=\"270 190 363 190 363 265 270 265 270 190\" style=\"fill:salmon; stroke:salmon; stroke-width:1; fill-opacity:0\" /><polygon points=\"222 149 322 149 322 196 222 196 222 149\" style=\"fill:pink; stroke:pink; stroke-width:1; fill-opacity:0\" /><polygon points=\"245 125 312 125 312 158 245 158 245 125\" style=\"fill:gold; stroke:gold; stroke-width:1; fill-opacity:0\" /><polygon points=\"299 115 363 115 363 167 299 167 299 115\" style=\"fill:orchid; stroke:orchid; stroke-width:1; fill-opacity:0\" /><polygon points=\" 72 121 170 121 170 178  72 178  72 121\" style=\"fill:slateblue; stroke:slateblue; stroke-width:1; fill-opacity:0\" /><polygon points=\"389 118 486 118 486 167 389 167 389 118\" style=\"fill:limegreen; stroke:limegreen; stroke-width:1; fill-opacity:0\" /><polygon points=\"179 142 270 142 270 190 179 190 179 142\" style=\"fill:seagreen; stroke:seagreen; stroke-width:1; fill-opacity:0\" /><polygon points=\" 38 101  84 101  84 150  38 150  38 101\" style=\"fill:darkgreen; stroke:darkgreen; stroke-width:1; fill-opacity:0\" /><polygon points=\" 79 127 219 127 219 184  79 184  79 127\" style=\"fill:olive; stroke:olive; stroke-width:1; fill-opacity:0\" /></svg></div></div><style>.svgclass { position:absolute; top:0px; left:0px;}</style>"
      ],
      "text/plain": [
       "<IPython.core.display.HTML object>"
      ]
     },
     "execution_count": 5,
     "metadata": {},
     "output_type": "execute_result"
    }
   ],
   "source": [
    "html = coco_dataset.display_image(245915, use_url=True)\n",
    "IPython.display.HTML(html)"
   ]
  },
  {
   "cell_type": "code",
   "execution_count": 6,
   "metadata": {},
   "outputs": [
    {
     "name": "stdout",
     "output_type": "stream",
     "text": [
      "Captions:\n",
      "==========\n",
      "    Group of Elephants bathing.\n",
      "    Thirteen elephants in a shallow body of water.\n",
      "    Elephants in a pond.\n",
      "\n"
     ]
    }
   ],
   "source": [
    "coco_dataset.display_captions(245915)"
   ]
  },
  {
   "cell_type": "markdown",
   "metadata": {},
   "source": [
    "##### ** NOTE ** In order to get captions AND segments, they are typically located in two separate JSON files (captions_train/captions_val for captions and instances_train/instances_val for segmentations). I put them together in one JSON for simplicity in showing how this works."
   ]
  },
  {
   "cell_type": "markdown",
   "metadata": {},
   "source": [
    "# References"
   ]
  },
  {
   "cell_type": "markdown",
   "metadata": {},
   "source": [
    "Kelly, Adam. “Create COCO Annotations From Scratch.” Immersive Limit, Immersive Limit, 11 Jan. 2019, www.immersivelimit.com/tutorials/create-coco-annotations-from-scratch. "
   ]
  },
  {
   "cell_type": "code",
   "execution_count": null,
   "metadata": {},
   "outputs": [],
   "source": []
  }
 ],
 "metadata": {
  "kernelspec": {
   "display_name": "Python 3",
   "language": "python",
   "name": "python3"
  },
  "language_info": {
   "codemirror_mode": {
    "name": "ipython",
    "version": 3
   },
   "file_extension": ".py",
   "mimetype": "text/x-python",
   "name": "python",
   "nbconvert_exporter": "python",
   "pygments_lexer": "ipython3",
   "version": "3.7.1"
  }
 },
 "nbformat": 4,
 "nbformat_minor": 2
}
